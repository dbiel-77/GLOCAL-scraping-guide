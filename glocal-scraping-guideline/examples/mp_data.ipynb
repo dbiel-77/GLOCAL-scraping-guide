{
 "cells": [
  {
   "cell_type": "markdown",
   "metadata": {},
   "source": [
    "# Scraping MP info"
   ]
  },
  {
   "cell_type": "code",
   "execution_count": 1,
   "metadata": {},
   "outputs": [],
   "source": [
    "import requests\n",
    "from bs4 import BeautifulSoup\n",
    "import pandas as pd"
   ]
  },
  {
   "cell_type": "markdown",
   "metadata": {},
   "source": [
    "## Connecting to Source\n",
    "Using requests, I verify that the link works and begin parsing using python's built in html parser."
   ]
  },
  {
   "cell_type": "code",
   "execution_count": 2,
   "metadata": {},
   "outputs": [
    {
     "name": "stdout",
     "output_type": "stream",
     "text": [
      "<Response [200]>\n"
     ]
    }
   ],
   "source": [
    "response = requests.get('https://www.ourcommons.ca/Members/en/search')\n",
    "print(response)\n",
    "\n",
    "# begin parsing (while you read :])\n",
    "soup = BeautifulSoup(response.content, 'html.parser')"
   ]
  },
  {
   "cell_type": "markdown",
   "metadata": {},
   "source": [
    "200 means that the connection was successful, using the f12 developer menu on firefox, I can begin to identify the methods in which the information is stored. Immediately, I can identify that the structure is a table where each MP has a cell.\n",
    "\n",
    "Navigating the HTML structure is possible using beautiful soup alone - but it is much more tedious, and since we have a browser at our disposal, why not."
   ]
  },
  {
   "cell_type": "markdown",
   "metadata": {},
   "source": [
    "## Class Breakdown\n",
    "I begin by identifing all of the containers that I'd like to scrape, and writing them down.\n",
    "\n",
    "<hr>\n",
    "\n",
    "**ce-mip-picture-container**\n",
    "\n",
    "    Picture URL - stored within picture container div as class \"ce-mip-mp-picture\"\n",
    "\n",
    "**ce-mip-tile-top**\n",
    "\n",
    "    Name - stored as class \"ce-mip-mp-name\"\n",
    "    Honourable Status - all contain this class, though not all have text, class \"ce-mip-mp-honourable\" (null/notnull)\n",
    "    Party - \"ce-mip-mp-party\"\n",
    "\n",
    "**ce-mip-tile-bottom**\n",
    "\n",
    "    Constituency - \"ce-mip-mp-constituency\"\n",
    "    Province - \"ce-mip-mp-province\"\n",
    "<hr>\n",
    "Since all contain \"ce-mip-mp-{element}\", I'll use that as a way to simplify the handling, string formatting the element into its ID when I am retrieving them. This is not neccessary, but it cleans the code up, and makes it easier to modify."
   ]
  },
  {
   "cell_type": "code",
   "execution_count": 3,
   "metadata": {},
   "outputs": [
    {
     "name": "stdout",
     "output_type": "stream",
     "text": [
      "Found 334 MP containers.\n"
     ]
    }
   ],
   "source": [
    "element_list = [\n",
    "    'name',\n",
    "    'picture',\n",
    "    'honourable',\n",
    "    'party',\n",
    "    'constituency',\n",
    "    'province'\n",
    "]\n",
    "\n",
    "# Find all containers for MPs (adjust the class if needed)\n",
    "mp_containers = soup.select('div.ce-mip-mp-tile-container')\n",
    "print(f\"Found {len(mp_containers)} MP containers.\")"
   ]
  },
  {
   "cell_type": "markdown",
   "metadata": {},
   "source": [
    "<hr>\n",
    "With individual MP containers identified, I can begin looping through each one - initializing a unique dictionary, and filling it with the information that I am looking for. Note that there are two unique cases: \n",
    "1. **Picture** - which requires retrieval of the 'src' attribute, which has the suffic for the image link.\n",
    "2. **Honourable** - because I wanted a boolean statement as to whether or not they are honourable - as opposed to simply including the text itself each time. A member of parliament that is Honourable, will be marked as True."
   ]
  },
  {
   "cell_type": "code",
   "execution_count": 4,
   "metadata": {},
   "outputs": [],
   "source": [
    "# Empty list that will host all mp dicts\n",
    "all_mps = []\n",
    "\n",
    "for mp in mp_containers:\n",
    "    # individual mp dict\n",
    "    mp_info = {}\n",
    "\n",
    "    for element in element_list:\n",
    "        # why not if elif else? I think match case just looks neater, this is a code aesthetic choice.\n",
    "        match element:\n",
    "        \n",
    "            case 'picture':\n",
    "                picture_container = mp.find('div', class_='ce-mip-mp-picture-container')\n",
    "                if picture_container:\n",
    "                    link_tag = picture_container.find('a')\n",
    "                    img_tag = picture_container.find('img')\n",
    "                    # Extract src of the image, if no image is available simply write \"N/A\"\n",
    "                    mp_info['image_link'] = \"https://www.ourcommons.ca\" + img_tag['src'] if img_tag and 'src' in img_tag.attrs else 'N/A'\n",
    "            \n",
    "            case 'honourable':\n",
    "                # Fixed section to return True if text exists, False otherwise\n",
    "                honourable_tag = mp.find(class_='ce-mip-mp-honourable')\n",
    "                if honourable_tag and honourable_tag.text.strip():\n",
    "                    mp_info['honourable'] = True # true if not none\n",
    "                else:\n",
    "                    mp_info['honourable'] = False  # false if none\n",
    "            \n",
    "            case _: # everything else \n",
    "                class_name = f'ce-mip-mp-{element}'\n",
    "                found_element = mp.find(class_=class_name)\n",
    "\n",
    "                # error handling\n",
    "                if found_element:\n",
    "                    mp_info[element] = found_element.text.strip()\n",
    "                else:\n",
    "                    mp_info[element] = 'N/A'  # Use 'N/A' if the element is missing\n",
    "\n",
    "    all_mps.append(mp_info)\n",
    "\n",
    "# print(all_mps)\n"
   ]
  },
  {
   "cell_type": "code",
   "execution_count": null,
   "metadata": {},
   "outputs": [
    {
     "name": "stdout",
     "output_type": "stream",
     "text": [
      "              name                                         image_link  \\\n",
      "1   Ziad Aboultaif  https://www.ourcommons.ca/Content/Parliamentar...   \n",
      "2  Scott Aitchison  https://www.ourcommons.ca/Content/Parliamentar...   \n",
      "3        Dan Albas  https://www.ourcommons.ca/Content/Parliamentar...   \n",
      "4    Omar Alghabra  https://www.ourcommons.ca/Content/Parliamentar...   \n",
      "5      Shafqat Ali  https://www.ourcommons.ca/Content/Parliamentar...   \n",
      "\n",
      "   honourable         party                         constituency  \\\n",
      "1       False  Conservative                     Edmonton Manning   \n",
      "2       False  Conservative                  Parry Sound—Muskoka   \n",
      "3       False  Conservative  Central Okanagan—Similkameen—Nicola   \n",
      "4        True       Liberal                   Mississauga Centre   \n",
      "5       False       Liberal                      Brampton Centre   \n",
      "\n",
      "           province  \n",
      "1           Alberta  \n",
      "2           Ontario  \n",
      "3  British Columbia  \n",
      "4           Ontario  \n",
      "5           Ontario  \n"
     ]
    }
   ],
   "source": [
    "df = pd.DataFrame(all_mps)\n",
    "# incrementing index because starting with 1 makes more sense here.\n",
    "df.index = df.index + 1\n",
    "print(df.head())\n",
    "\n",
    "# output as csv with\n",
    "# df.to_csv(\"mp_data_indexed.csv\", index_label=\"Index\")"
   ]
  },
  {
   "cell_type": "markdown",
   "metadata": {},
   "source": [
    "Runtime Data:\n",
    "3 seconds\n"
   ]
  }
 ],
 "metadata": {
  "kernelspec": {
   "display_name": "Python 3 (ipykernel)",
   "language": "python",
   "name": "python3"
  },
  "language_info": {
   "codemirror_mode": {
    "name": "ipython",
    "version": 3
   },
   "file_extension": ".py",
   "mimetype": "text/x-python",
   "name": "python",
   "nbconvert_exporter": "python",
   "pygments_lexer": "ipython3",
   "version": "3.12.4"
  }
 },
 "nbformat": 4,
 "nbformat_minor": 4
}
